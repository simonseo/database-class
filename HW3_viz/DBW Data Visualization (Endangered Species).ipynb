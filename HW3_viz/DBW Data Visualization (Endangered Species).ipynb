{
 "cells": [
  {
   "cell_type": "markdown",
   "metadata": {},
   "source": [
    "# Assignment #3 Data Visualization of Endangered Species in the US\n",
    "\n",
    "1. **Map Chart** with number of species on the database for each state\n",
    "1. **Bar graph** comparing number of listed(endangered/threatened) and unlisted for each species type\n",
    "1. **Line graph** that shows number of first listed years\n"
   ]
  },
  {
   "cell_type": "markdown",
   "metadata": {},
   "source": [
    "## Instructions\n",
    "### 1. Create Charts\n",
    "Create two different graphs with data excerpted from your project in assignment #2.\n",
    "\n",
    "At least one graph should include at least two records' of data (e.g. a line chart with two or more lines) with appropriate legends. The graphs should use different formats (e.g. a line chart and pie chart).\n",
    "\n",
    "### 2. Post to Website\n",
    "Post your graphs to a new web page for Assignment 3 and add a link to this assignment from your index.html page.\n",
    "\n",
    "Please include the following for each chart on the page:\n",
    "\n",
    "1. The URL where you obtained the data\n",
    "1. Write at least one paragraph to describe what your graph shows: for example ...\n",
    "    - Can you draw any conclusions by learning from the data? (e.g. \"New York City first graders scored higher on reading tests in year x than they did in year y\")\n",
    "    - Can you draw any conclusions about the integrity of the data? (e.g. \"This graph reveals many outliers so I believe these data would require more research and validation to be useful.\")\n",
    "    - Who might find your graphs useful? (e.g. \"This pie-chart about the results of a local election in Upstate New York would be of interest to a future candidate for this post.\")\n",
    "\n",
    "### 3. Submit on NYUClasses\n",
    "Deliverables:\n",
    "\n",
    "1. The datafile you used for your graphs.\n",
    "1. The python programs that you wrote to create the graphs.\n",
    "\n",
    "As text:\n",
    "\n",
    "1. The URL to your website.\n",
    "1. Provide the URL where you obtained your data set.\n",
    "1. Write up any notes on your data that you would like your instructor and grader to know."
   ]
  },
  {
   "cell_type": "code",
   "execution_count": null,
   "metadata": {
    "collapsed": true
   },
   "outputs": [],
   "source": []
  },
  {
   "cell_type": "code",
   "execution_count": null,
   "metadata": {
    "collapsed": true
   },
   "outputs": [],
   "source": []
  },
  {
   "cell_type": "code",
   "execution_count": null,
   "metadata": {
    "collapsed": true
   },
   "outputs": [],
   "source": []
  }
 ],
 "metadata": {
  "kernelspec": {
   "display_name": "Python 3",
   "language": "python",
   "name": "python3"
  },
  "language_info": {
   "codemirror_mode": {
    "name": "ipython",
    "version": 3
   },
   "file_extension": ".py",
   "mimetype": "text/x-python",
   "name": "python",
   "nbconvert_exporter": "python",
   "pygments_lexer": "ipython3",
   "version": "3.6.0"
  }
 },
 "nbformat": 4,
 "nbformat_minor": 2
}
